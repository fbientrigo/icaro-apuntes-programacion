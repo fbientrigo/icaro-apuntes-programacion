{
 "cells": [
  {
   "cell_type": "markdown",
   "source": [
    "# Errores e Incertidumbres en Computaciones\r\n",
    "> 3.1 Vivir con Errores\r\n",
    "\r\n",
    "> 3.2 Tipos de Errores\r\n",
    "\r\n",
    "> 3.3 Model for Disaster: Substractive Cancellation\r\n",
    "\r\n",
    "> 3.4 Substractive Cancellation Ejercicios\r\n",
    "\r\n",
    "> 3.5 Modelo para Aproximar la acumulacion de los errores"
   ],
   "metadata": {}
  },
  {
   "cell_type": "markdown",
   "source": [
    "## Introduccion a los Errores\r\n",
    "observa la siguiente suma, cada iteracion sumamos a `1.0` un numero mas pequeño:\r\n",
    "\r\n",
    "$1e-3 = 1 * 10^{-3} = 0.001$"
   ],
   "metadata": {}
  },
  {
   "cell_type": "code",
   "execution_count": 2,
   "source": [
    "#sumaremos hasta los 16 ceros:\r\n",
    "for i in range(1,16 + 1):\r\n",
    "    print(f\"1 +{10**(-i)} = {1 + 10**(-i)}; es el decimal {i}\")"
   ],
   "outputs": [
    {
     "output_type": "stream",
     "name": "stdout",
     "text": [
      "1 +0.1 = 1.1; es el decimal 1\n",
      "1 +0.01 = 1.01; es el decimal 2\n",
      "1 +0.001 = 1.001; es el decimal 3\n",
      "1 +0.0001 = 1.0001; es el decimal 4\n",
      "1 +1e-05 = 1.00001; es el decimal 5\n",
      "1 +1e-06 = 1.000001; es el decimal 6\n",
      "1 +1e-07 = 1.0000001; es el decimal 7\n",
      "1 +1e-08 = 1.00000001; es el decimal 8\n",
      "1 +1e-09 = 1.000000001; es el decimal 9\n",
      "1 +1e-10 = 1.0000000001; es el decimal 10\n",
      "1 +1e-11 = 1.00000000001; es el decimal 11\n",
      "1 +1e-12 = 1.000000000001; es el decimal 12\n",
      "1 +1e-13 = 1.0000000000001; es el decimal 13\n",
      "1 +1e-14 = 1.00000000000001; es el decimal 14\n",
      "1 +1e-15 = 1.000000000000001; es el decimal 15\n",
      "1 +1e-16 = 1.0; es el decimal 16\n"
     ]
    }
   ],
   "metadata": {}
  },
  {
   "cell_type": "markdown",
   "source": [
    "### Que es lo que ha pasado?\r\n",
    "Hemos topado con lo que se llama `machine precision` o `machep`, depende de la maquina, sistema, etc... para Python el machep, el punto en donde las cosas comienzan a generar errores es en el decimal 16 por tanto omitira todo numero alli.\r\n",
    "\r\n",
    "la definicion del `machep` $\\epsilon$ es:\r\n",
    "\r\n",
    "$1 + \\epsilon = 1$"
   ],
   "metadata": {}
  },
  {
   "cell_type": "code",
   "execution_count": 3,
   "source": [
    "# 2.10 Determinar tu Precision de Maquina o Machep\r\n",
    "# en un factor de 2, sea 2 veces el numero encontrado el limite superior\r\n",
    "machep = 1\r\n",
    "for i in range(0, 61):\r\n",
    "   machep = machep/2 # dividimos en 2 en cada iteracion\r\n",
    "   unoMasMachep = 1.0 + machep\r\n",
    "   print(f\"unoMasMachep: 1.0 + {machep} = {unoMasMachep}\")\r\n",
    "   if unoMasMachep == 1.0:\r\n",
    "       print(f\"Se ha encontrado Machine Error: {machep}\")\r\n",
    "       break"
   ],
   "outputs": [
    {
     "output_type": "stream",
     "name": "stdout",
     "text": [
      "unoMasMachep: 1.0 + 0.5 = 1.5\n",
      "unoMasMachep: 1.0 + 0.25 = 1.25\n",
      "unoMasMachep: 1.0 + 0.125 = 1.125\n",
      "unoMasMachep: 1.0 + 0.0625 = 1.0625\n",
      "unoMasMachep: 1.0 + 0.03125 = 1.03125\n",
      "unoMasMachep: 1.0 + 0.015625 = 1.015625\n",
      "unoMasMachep: 1.0 + 0.0078125 = 1.0078125\n",
      "unoMasMachep: 1.0 + 0.00390625 = 1.00390625\n",
      "unoMasMachep: 1.0 + 0.001953125 = 1.001953125\n",
      "unoMasMachep: 1.0 + 0.0009765625 = 1.0009765625\n",
      "unoMasMachep: 1.0 + 0.00048828125 = 1.00048828125\n",
      "unoMasMachep: 1.0 + 0.000244140625 = 1.000244140625\n",
      "unoMasMachep: 1.0 + 0.0001220703125 = 1.0001220703125\n",
      "unoMasMachep: 1.0 + 6.103515625e-05 = 1.00006103515625\n",
      "unoMasMachep: 1.0 + 3.0517578125e-05 = 1.000030517578125\n",
      "unoMasMachep: 1.0 + 1.52587890625e-05 = 1.0000152587890625\n",
      "unoMasMachep: 1.0 + 7.62939453125e-06 = 1.0000076293945312\n",
      "unoMasMachep: 1.0 + 3.814697265625e-06 = 1.0000038146972656\n",
      "unoMasMachep: 1.0 + 1.9073486328125e-06 = 1.0000019073486328\n",
      "unoMasMachep: 1.0 + 9.5367431640625e-07 = 1.0000009536743164\n",
      "unoMasMachep: 1.0 + 4.76837158203125e-07 = 1.0000004768371582\n",
      "unoMasMachep: 1.0 + 2.384185791015625e-07 = 1.000000238418579\n",
      "unoMasMachep: 1.0 + 1.1920928955078125e-07 = 1.0000001192092896\n",
      "unoMasMachep: 1.0 + 5.960464477539063e-08 = 1.0000000596046448\n",
      "unoMasMachep: 1.0 + 2.9802322387695312e-08 = 1.0000000298023224\n",
      "unoMasMachep: 1.0 + 1.4901161193847656e-08 = 1.0000000149011612\n",
      "unoMasMachep: 1.0 + 7.450580596923828e-09 = 1.0000000074505806\n",
      "unoMasMachep: 1.0 + 3.725290298461914e-09 = 1.0000000037252903\n",
      "unoMasMachep: 1.0 + 1.862645149230957e-09 = 1.0000000018626451\n",
      "unoMasMachep: 1.0 + 9.313225746154785e-10 = 1.0000000009313226\n",
      "unoMasMachep: 1.0 + 4.656612873077393e-10 = 1.0000000004656613\n",
      "unoMasMachep: 1.0 + 2.3283064365386963e-10 = 1.0000000002328306\n",
      "unoMasMachep: 1.0 + 1.1641532182693481e-10 = 1.0000000001164153\n",
      "unoMasMachep: 1.0 + 5.820766091346741e-11 = 1.0000000000582077\n",
      "unoMasMachep: 1.0 + 2.9103830456733704e-11 = 1.0000000000291038\n",
      "unoMasMachep: 1.0 + 1.4551915228366852e-11 = 1.000000000014552\n",
      "unoMasMachep: 1.0 + 7.275957614183426e-12 = 1.000000000007276\n",
      "unoMasMachep: 1.0 + 3.637978807091713e-12 = 1.000000000003638\n",
      "unoMasMachep: 1.0 + 1.8189894035458565e-12 = 1.000000000001819\n",
      "unoMasMachep: 1.0 + 9.094947017729282e-13 = 1.0000000000009095\n",
      "unoMasMachep: 1.0 + 4.547473508864641e-13 = 1.0000000000004547\n",
      "unoMasMachep: 1.0 + 2.2737367544323206e-13 = 1.0000000000002274\n",
      "unoMasMachep: 1.0 + 1.1368683772161603e-13 = 1.0000000000001137\n",
      "unoMasMachep: 1.0 + 5.684341886080802e-14 = 1.0000000000000568\n",
      "unoMasMachep: 1.0 + 2.842170943040401e-14 = 1.0000000000000284\n",
      "unoMasMachep: 1.0 + 1.4210854715202004e-14 = 1.0000000000000142\n",
      "unoMasMachep: 1.0 + 7.105427357601002e-15 = 1.000000000000007\n",
      "unoMasMachep: 1.0 + 3.552713678800501e-15 = 1.0000000000000036\n",
      "unoMasMachep: 1.0 + 1.7763568394002505e-15 = 1.0000000000000018\n",
      "unoMasMachep: 1.0 + 8.881784197001252e-16 = 1.0000000000000009\n",
      "unoMasMachep: 1.0 + 4.440892098500626e-16 = 1.0000000000000004\n",
      "unoMasMachep: 1.0 + 2.220446049250313e-16 = 1.0000000000000002\n",
      "unoMasMachep: 1.0 + 1.1102230246251565e-16 = 1.0\n",
      "Se ha encontrado Machine Error: 1.1102230246251565e-16\n"
     ]
    }
   ],
   "metadata": {}
  },
  {
   "cell_type": "markdown",
   "source": [
    "## Por que sucede esto?\r\n",
    "Haciendo cita a como funcionan los numeros, piensa en el estandar IEEE, tenemos una cantidad limitada de digitos para representar un numero finito, todo numero va asi:\r\n",
    "\r\n",
    "$ N = (-1)^s \\times c \\times b^p $\r\n",
    "\r\n",
    "$N$ : el numero que deseamos representar $\\\\$\r\n",
    "$s$ : el bit que define el signo positivo o negativo (podemos no utilizarlo y lo que antes va  de -128 a 128 app, ahora iria de 0 a 256) $\\\\$\r\n",
    "Usare la constante de Planck como ejemplo $\\\\$\r\n",
    "$ h = 6.626 \\times 10^{-34}$ $\\\\$\r\n",
    "$c$ : es la mantisa, piensa en notacion cientifica, es le numero que acompaña al 10 elevado a algo, seria $c = 6.626$ la mantisa tendra un maximo de digitos y luego perdera precision $\\\\$\r\n",
    "$b^p$: es la base y el exponente, por lo general la base es 2 o 10. el exponente igual posee un numero maximo de digitos, todo esto relacionado a como la computadora observa los numeros $\\\\$\r\n",
    "\r\n",
    "Puedes encontrar aqui un convertidor online para ver como es representado tu numero decimal en simple y doble precision\r\n",
    "[convertidor IEE754](https://www.zator.com/Cpp/E2_2_4a1.htm)\r\n",
    "\r\n",
    "En el standard usado para guardar numeros `IEE745`, tenemos para 32 bits: $\\\\$\r\n"
   ],
   "metadata": {}
  },
  {
   "cell_type": "code",
   "execution_count": 14,
   "source": [
    "# crearemos una funcion para ver como son los numeros en binario\r\n",
    "def ieee745(N): # ieee-745 bits (max 32 bit)\r\n",
    "    \"\"\" int(100,2) = 8; esta funcion se usa para convetir de binario a entero\"\"\"\r\n",
    "    s = int(N[0])        # sign,     1 bit\r\n",
    "    p = int(N[1:9],2) - 127   # exponent, 8 bits\r\n",
    "    c = int(\"1\"+N[9:], 2)# fraccion,todos los bits restantes, osea: len(N)-9 bits\r\n",
    "    return (-1)**s * c /( 1 <<( len(N)-9 - p ))\r\n",
    "\r\n",
    "N = \"110000011010010011\"  # str of ieee-745 bits\r\n",
    "print( ieee745(N)  )  # -->  -20.59375    "
   ],
   "outputs": [
    {
     "output_type": "stream",
     "name": "stdout",
     "text": [
      "659\n",
      "32\n",
      "-20.59375\n"
     ]
    }
   ],
   "metadata": {}
  },
  {
   "cell_type": "markdown",
   "source": [
    "### IEE754\r\n",
    "el tema es algo extenso y te recomiendo leerlo en linea, por mientras debes de saber que el convenio de IEE754, el exponente se calcula $\\\\$\r\n",
    "$2^{p-127} \\\\$\r\n",
    "Normalmente la mantisa posee un `1.0` asumido, el primer bit es `1/2` el segundo bit `1/4` y asi... la mantisa tendria un rango de [1 , 2)\r\n",
    "\r\n",
    "En el caso especial donde tengamos $p=0 \\rightarrow 2^{-127}$ entonces el `1.0` desaparece, la mantisa tendria un rango de [0 , 1), esto ultimo es un numero `subnormal` o `denormalizado`\r\n",
    "\r\n",
    "### Errores de Redondeo\r\n",
    "Debido a como se representa la Mantisa, espera que todo numero que no sea un multiplo de 2 tener un error intrinsico\r\n",
    "\r\n",
    "### Operaciones entre numeros\r\n",
    "Si deseamos realizar una suma, hemos de tener exponentes identicos y luego operar entre las mantisas, de otra manera no tiene sentido simplemente sumar los bits; por ello modificamos el numero mas pequeño, esta modificacion produce eventualmente el `machep`\r\n",
    "\r\n",
    "### Concluyendo, asi es como funciona IEE754 para doble precision\r\n",
    "$$\r\n",
    "v = 1^{b_{63}} \\times 2^{e-1023} \\times (1+ \\sum_{i=0}^{51} b_{51-i} 2^{-i})\r\n",
    "$$\r\n",
    "donde $b_i$ es el bit en la posicion $i$ (derecha a izquierda)"
   ],
   "metadata": {}
  },
  {
   "cell_type": "code",
   "execution_count": null,
   "source": [],
   "outputs": [],
   "metadata": {}
  }
 ],
 "metadata": {
  "orig_nbformat": 4,
  "language_info": {
   "name": "python",
   "version": "3.8.5",
   "mimetype": "text/x-python",
   "codemirror_mode": {
    "name": "ipython",
    "version": 3
   },
   "pygments_lexer": "ipython3",
   "nbconvert_exporter": "python",
   "file_extension": ".py"
  },
  "kernelspec": {
   "name": "python3",
   "display_name": "Python 3.8.5 64-bit"
  },
  "interpreter": {
   "hash": "b3ba2566441a7c06988d0923437866b63cedc61552a5af99d1f4fb67d367b25f"
  }
 },
 "nbformat": 4,
 "nbformat_minor": 2
}