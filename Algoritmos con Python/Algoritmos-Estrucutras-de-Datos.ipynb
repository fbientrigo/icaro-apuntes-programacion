{
    "cells": [
        {
            "cell_type": "markdown",
            "source": [
                "# Algoritmos\r\n",
                "\r\n",
                "Abstract aqui\r\n",
                "\r\n",
                "Por Fabian Trigo\r\n",
                "@floresenhalloween"
            ],
            "metadata": {}
        },
        {
            "cell_type": "code",
            "execution_count": 1,
            "source": [
                "#librerias usadas\r\n",
                "import numpy as np\r\n",
                "import matplotlib.pyplot as plt"
            ],
            "outputs": [],
            "metadata": {}
        },
        {
            "cell_type": "markdown",
            "source": [
                "# Busqueda Lineal\r\n",
                "\r\n",
                "### Glosario que usaremos\r\n",
                "* comparando: cuando iteramos en una lista el elemento que estamos analizando es el comparando\r\n",
                "* buscando: el elemento que queremos encontrar\r\n",
                "\r\n",
                "Desde el primer elemento itera (pasa por cada elemento de una lista) hasta el ultimo;\r\n",
                "en caso de encontrar el elemento buscado\r\n",
                "retornar su posicion"
            ],
            "metadata": {}
        },
        {
            "cell_type": "code",
            "execution_count": 8,
            "source": [
                "def busquedaLineal(lista, objeto_buscado ):\r\n",
                "    for idx, obj in enumerate(lista):\r\n",
                "        print(f\"el index {idx} contiene {obj}\")\r\n",
                "        \r\n",
                "        #aqui va la comparasion; comparamos si el obj (en la lista) es igual a lo que buscamos\r\n",
                "        if(obj == objeto_buscado):\r\n",
                "            print(f\"Se ha encontrado el objeto {obj}\")\r\n",
                "            print(f\"Se encuentra en el index {idx}\")\r\n",
                "            #y la funcion nos entregara la respuesta y se cerrara\r\n",
                "            return idx\r\n",
                "    \r\n",
                "    # si estamos fuera del for; es por que el if no se ha activado\r\n",
                "    print(f\"No se ha encontrado el objeto {obj}\")\r\n",
                "    return None"
            ],
            "outputs": [],
            "metadata": {}
        },
        {
            "cell_type": "code",
            "execution_count": 9,
            "source": [
                "objeto = 121\r\n",
                "lista = [1, 43, 65, 121, 150]\r\n",
                "\r\n",
                "index = busquedaLineal(lista, objeto)"
            ],
            "outputs": [
                {
                    "output_type": "stream",
                    "name": "stdout",
                    "text": [
                        "el index 0 contiene 1\n",
                        "el index 1 contiene 43\n",
                        "el index 2 contiene 65\n",
                        "el index 3 contiene 121\n",
                        "Se ha encontrado el objeto 121\n",
                        "Se encuentra en el index 3\n"
                    ]
                }
            ],
            "metadata": {}
        },
        {
            "cell_type": "code",
            "execution_count": 11,
            "source": [
                "# probando la respuesta\r\n",
                "lista[3]\r\n",
                "\r\n",
                "lista[index]"
            ],
            "outputs": [
                {
                    "output_type": "execute_result",
                    "data": {
                        "text/plain": [
                            "121"
                        ]
                    },
                    "metadata": {},
                    "execution_count": 11
                }
            ],
            "metadata": {}
        },
        {
            "cell_type": "markdown",
            "source": [
                "# Busqueda Binaria\r\n",
                "\r\n",
                "En el caso de tener una lista ordenada de numeros; como puede ser\r\n",
                "```\r\n",
                "lista = [1, 4, 7, 9, 10]\r\n",
                "```\r\n",
                "y buscar el elemento `` 9 `` podemos comenzar en medio de una lista; pueden ocurrir 3 casos: \\n\r\n",
                "1. si el elemento que estamos comparando (el del medio) es el que buscamos\r\n",
                "2. si el elemento buscado es mayor que el que estamos comparando\r\n",
                "3. si el elemento buscado es menor que el comparando\r\n",
                "\r\n",
                "En el caso de ser el mismo: retornar el index en que nos encontramos\r\n",
                "\r\n",
                "En el caso de que el elemento buscado sea mayor; sabemos que no se encuentra en la parte izquierda;\r\n",
                "por tanto la ignoraremos y trabajaremos con la parte derecha de la lista"
            ],
            "metadata": {}
        },
        {
            "cell_type": "code",
            "execution_count": null,
            "source": [
                "def busquedaBinaria(lista, buscando):\r\n",
                "    # dividir una lista a la mitad \r\n",
                "\r\n",
                "    # comparar el elemento que se encuentre en la mitad\r\n",
                "        #osea el ultimo de la lista izquierda [ - - - - *]\r\n",
                "        #o el primero de la lista derecha [* - - - - -]\r\n",
                "        # no importa mucho cual se elija (de todas formas es una diferencia de dos elementos a elegir)\r\n",
                "\r\n",
                "    # realizar la misma operacion de cortes a la mitad para hallar el elemento\r\n",
                "\r\n"
            ],
            "outputs": [],
            "metadata": {}
        },
        {
            "cell_type": "markdown",
            "source": [
                "Mi implementacion de este algoritmo es el siguiente"
            ],
            "metadata": {}
        },
        {
            "cell_type": "code",
            "execution_count": 25,
            "source": [
                "# podemos dividir listas de esta manera\r\n",
                "print(lista)\r\n",
                "print(lista[:3]) #notese esto es imprimir elementos 0, 1, 2 ; el ultimo no se incluye\r\n",
                "print(lista[3:]) #comenzamos elemntos 3, 4, et cetera\r\n",
                "print(\"_____________________\")\r\n",
                "\r\n",
                "#otra cosa que quiero que sepas\r\n",
                "N = 11 #un numero impar\r\n",
                "print(f\"la mitad de 11:{N/2}\")\r\n",
                "print(f\"la mitad de 11 con funcion int: {int(N/2)}\")\r\n",
                "print(\"_____________________\")\r\n",
                "#como vemos int trunca un numero decimal, por tanto si tuviesemos una lista\r\n",
                "\r\n",
                "lista_p = [5,6,7,8,9]\r\n",
                "N = len(lista_p)\r\n",
                "print(lista_p[:int(N/2)])\r\n",
                "print(lista_p[int(N/2):])"
            ],
            "outputs": [
                {
                    "output_type": "stream",
                    "name": "stdout",
                    "text": [
                        "[1, 43, 65, 121, 150]\n",
                        "[1, 43, 65]\n",
                        "[121, 150]\n",
                        "_____________________\n",
                        "la mitad de 11:5.5\n",
                        "la mitad de 11 con funcion int: 5\n",
                        "_____________________\n",
                        "[5, 6]\n",
                        "[7, 8, 9]\n"
                    ]
                }
            ],
            "metadata": {}
        },
        {
            "cell_type": "markdown",
            "source": [
                "Como vimos en el codigo anterior; usar ``int(N/2)`` para una lista impar; provoca una division en dos listas\r\n",
                "donde la **2da lista** incluye como primer elemento al elemento que va en la mitad de la lista original"
            ],
            "metadata": {}
        },
        {
            "cell_type": "code",
            "execution_count": 33,
            "source": [
                "def busquedaBinaria(lista, buscando, contador = 0):\r\n",
                "    M = int(len(lista)/2) #calculamos la mitad de una vez\r\n",
                "    izquierda = lista[:M]\r\n",
                "    derecha   = lista[M:]\r\n",
                "\r\n",
                "    print(izquierda, derecha)\r\n",
                "   \r\n",
                "    if(derecha[0] == buscando):\r\n",
                "        print(f\"Elemento econtrado en index {M + contador}\")\r\n",
                "        return M + contador #se retorna el index que pertence\r\n",
                "    \r\n",
                "    elif(buscando < derecha[0]):\r\n",
                "        busquedaBinaria(izquierda, buscando)\r\n",
                "\r\n",
                "    elif(derecha[0] < buscando):\r\n",
                "        busquedaBinaria(derecha, buscando, contador + M)\r\n",
                "        \r\n"
            ],
            "outputs": [],
            "metadata": {}
        },
        {
            "cell_type": "code",
            "execution_count": 33,
            "source": [
                "def busquedaBinaria(lista, buscando, contador = 0):\r\n",
                "    # dividir una lista a la mitad \r\n",
                "    M = int(len(lista)/2) #calculamos la mitad de una vez\r\n",
                "    \r\n",
                "    izquierda = lista[:M]\r\n",
                "    derecha   = lista[M:]\r\n",
                "\r\n",
                "    print(izquierda, derecha)\r\n",
                "\r\n",
                "    # comparar el elemento que se encuentre en la mitad\r\n",
                "        #osea el primero de la lista derecha [* - - - - -]\r\n",
                "        # no importa mucho cual se elija (de todas formas es una diferencia de dos elementos a elegir)\r\n",
                "        # pero al comenzar con el primero de la lista derecha (lista[N:]) \r\n",
                "        # para el caso impar, de que exista el termino de la mitad; lo habremos seleccionado\r\n",
                "    \r\n",
                "    if(derecha[0] == buscando):\r\n",
                "        print(f\"Elemento econtrado en index {M + contador}\")\r\n",
                "        return M + contador #se retorna el index que pertence\r\n",
                "        # sobre el contador te contare mas abajo\r\n",
                "    \r\n",
                "    # realizar la misma operacion de cortes a la mitad para hallar el elemento\r\n",
                "    elif(buscando < derecha[0]):\r\n",
                "        #si el primer elemento derecho es mayor, entonces suigamos en la izquierda\r\n",
                "        busquedaBinaria(izquierda, buscando) #wowowowowow recursion; corremos la misma funcion pero con la parte izquierda\r\n",
                "\r\n",
                "    elif(derecha[0] < buscando):\r\n",
                "        busquedaBinaria(derecha, buscando, contador + M)\r\n",
                "        #contador sirve para cuando volvamos empezar de 0, queremos tener conciencia de\r\n",
                "        #en que lugar de la lista origina, estamos; osea una forma de mantener el index\r\n",
                "\r\n",
                "\r\n"
            ],
            "outputs": [],
            "metadata": {}
        },
        {
            "cell_type": "code",
            "execution_count": 34,
            "source": [
                "# probando el codigo\r\n",
                "busquedaBinaria(lista_p, 8)"
            ],
            "outputs": [
                {
                    "output_type": "stream",
                    "name": "stdout",
                    "text": [
                        "[5, 6] [7, 8, 9]\n",
                        "[7] [8, 9]\n",
                        "Elemento econtrado en index 3\n"
                    ]
                }
            ],
            "metadata": {}
        },
        {
            "cell_type": "markdown",
            "source": [
                "# Algoritmo 3"
            ],
            "metadata": {}
        },
        {
            "cell_type": "markdown",
            "source": [],
            "metadata": {}
        }
    ],
    "metadata": {
        "orig_nbformat": 4,
        "language_info": {
            "name": "python",
            "version": "3.8.5",
            "mimetype": "text/x-python",
            "codemirror_mode": {
                "name": "ipython",
                "version": 3
            },
            "pygments_lexer": "ipython3",
            "nbconvert_exporter": "python",
            "file_extension": ".py"
        },
        "kernelspec": {
            "name": "python3",
            "display_name": "Python 3.8.5 64-bit ('base': conda)"
        },
        "interpreter": {
            "hash": "b3ba2566441a7c06988d0923437866b63cedc61552a5af99d1f4fb67d367b25f"
        }
    },
    "nbformat": 4,
    "nbformat_minor": 2
}